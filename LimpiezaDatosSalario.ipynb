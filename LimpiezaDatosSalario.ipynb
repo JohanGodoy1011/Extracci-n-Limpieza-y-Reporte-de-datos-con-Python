{
  "nbformat": 4,
  "nbformat_minor": 0,
  "metadata": {
    "colab": {
      "provenance": [],
      "include_colab_link": true
    },
    "kernelspec": {
      "name": "python3",
      "display_name": "Python 3"
    },
    "language_info": {
      "name": "python"
    }
  },
  "cells": [
    {
      "cell_type": "markdown",
      "metadata": {
        "id": "view-in-github",
        "colab_type": "text"
      },
      "source": [
        "<a href=\"https://colab.research.google.com/github/JohanGodoy1011/Extracci-n-Limpieza-y-Reporte-de-datos-con-Python/blob/main/LimpiezaDatosSalario.ipynb\" target=\"_parent\"><img src=\"https://colab.research.google.com/assets/colab-badge.svg\" alt=\"Open In Colab\"/></a>"
      ]
    },
    {
      "cell_type": "markdown",
      "source": [
        "# IA: LIMPIEZA DE DATOS"
      ],
      "metadata": {
        "id": "JYxNDYpsz5o3"
      }
    },
    {
      "cell_type": "markdown",
      "source": [
        "# 1. El problema\n",
        "Una empresa desea comprender mejor la distribución de los salarios de sus empleados y las características asociadas a los salarios más altos en su organización. El objetivo es identificar patrones y tendencias que puedan influir en la compensación de los empleados y en la estructura salarial de la empresa.\n",
        "\n",
        "¿Cuál es la distribución de los salarios netos y brutos entre las diferentes entidades federativas, y hay alguna entidad federativa cuyos empleados tienden a tener salarios más altos en comparación con otras?"
      ],
      "metadata": {
        "id": "G9H5pPsxDV0a"
      }
    },
    {
      "cell_type": "markdown",
      "source": [
        "#2. El set de datos\n",
        "\n",
        "La información recolectada por la empresa se encuentra en un archivo CSV (`salaries.csv`) con 1817690 filas y 11 columnas."
      ],
      "metadata": {
        "id": "1tq451lMuWVE"
      }
    },
    {
      "cell_type": "markdown",
      "source": [
        "#3. Verificar el dataset"
      ],
      "metadata": {
        "id": "Zb0-ULxXuj19"
      }
    },
    {
      "cell_type": "code",
      "execution_count": null,
      "metadata": {
        "id": "ffRN62u3RWsd"
      },
      "outputs": [],
      "source": [
        "# Importar librerías\n",
        "import pandas as pd\n",
        "import matplotlib.pyplot as plt\n",
        "import seaborn as sns"
      ]
    },
    {
      "cell_type": "code",
      "source": [
        "# Lectura\n",
        "from google.colab import drive\n",
        "\n",
        "drive.mount('/gdrive')\n",
        "\n",
        "ruta = \"salaries.csv\"\n",
        "\n",
        "data = pd.read_csv(ruta)"
      ],
      "metadata": {
        "id": "Hs1uV9HBR-Xl",
        "outputId": "57317da5-cfe0-4287-9a12-c26de1ceb90e",
        "colab": {
          "base_uri": "https://localhost:8080/"
        }
      },
      "execution_count": null,
      "outputs": [
        {
          "output_type": "stream",
          "name": "stdout",
          "text": [
            "Drive already mounted at /gdrive; to attempt to forcibly remount, call drive.mount(\"/gdrive\", force_remount=True).\n"
          ]
        }
      ]
    },
    {
      "cell_type": "code",
      "source": [
        "#from google.colab import drive\n",
        "#drive.mount('/content/drive')"
      ],
      "metadata": {
        "id": "Hg4yVJdDraIF",
        "colab": {
          "base_uri": "https://localhost:8080/"
        },
        "outputId": "fd292d77-e8d1-48c1-adde-b4f1179274df"
      },
      "execution_count": null,
      "outputs": [
        {
          "output_type": "stream",
          "name": "stdout",
          "text": [
            "Mounted at /content/drive\n"
          ]
        }
      ]
    },
    {
      "cell_type": "code",
      "source": [
        "print(data.shape)\n",
        "data.head()"
      ],
      "metadata": {
        "colab": {
          "base_uri": "https://localhost:8080/",
          "height": 293
        },
        "id": "mwn9EsSDSKYy",
        "outputId": "b450552d-9ecc-4862-f665-143a14752aa5"
      },
      "execution_count": null,
      "outputs": [
        {
          "output_type": "stream",
          "name": "stdout",
          "text": [
            "(20238, 11)\n"
          ]
        },
        {
          "output_type": "execute_result",
          "data": {
            "text/plain": [
              "  entidadfederativa                                     sujetoobligado  \\\n",
              "0           Hidalgo                                           Jaltocán   \n",
              "1  Ciudad de México                                Secretaría de Salud   \n",
              "2  Ciudad de México                  Secretaría de Seguridad Ciudadana   \n",
              "3        Federación  Autoridad Educativa Federal en la Ciudad de Mé...   \n",
              "4    Aguascalientes                       MUNICIPIO DE RINCÓN DE ROMOS   \n",
              "\n",
              "                           nombre                       denominacion  \\\n",
              "0      Adolfo Hernandez Hernandez                          Fontanero   \n",
              "1   ARELY SAMANTA CLEOFAS VELASCO         AUXILIAR DE ENFERMERIA \"A\"   \n",
              "2  MELODY OLIMPIC GONZALEZ MONTES                    POLICIA PRIMERO   \n",
              "3            ANGEL ALLENDE PULIDO  APOYO Y ASISTENCIA A LA EDUCACION   \n",
              "4          Yolanda Reyes Gonzalez                           DIRECTOR   \n",
              "\n",
              "   montoneto                              cargo  \\\n",
              "0    4000.00                          Fontanero   \n",
              "1   12177.86         AUXILIAR DE ENFERMERIA \"A\"   \n",
              "2   11652.00                    POLICIA PRIMERO   \n",
              "3   10180.57  APOYO Y ASISTENCIA A LA EDUCACION   \n",
              "4   17004.40                           DIRECTOR   \n",
              "\n",
              "                                                area  montobruto  \\\n",
              "0                                     OBRAS PUBLICAS     4254.00   \n",
              "1                               H.G. ENRIQUE CABRERA    16092.00   \n",
              "2                SUBSECRETARIA DE OPERACION POLICIAL    16030.00   \n",
              "3  DIRECCIÓN GENERAL DE OPERACIONES DE SERVICIOS ...     2910.65   \n",
              "4                                      ACCION CIVICA     6188.40   \n",
              "\n",
              "   idInformacion periodoreportainicio periodoreportafin  \n",
              "0     16311845.0           01/01/2018        30/06/2018  \n",
              "1     16480190.0           01/01/2018        31/03/2018  \n",
              "2     17599078.0           01/01/2020        31/03/2020  \n",
              "3      6514612.0           01/07/2018        31/12/2018  \n",
              "4     11927166.0           01/07/2019        31/12/2019  "
            ],
            "text/html": [
              "\n",
              "  <div id=\"df-86f5a384-bfd5-45e5-b8ba-39855e4d6946\" class=\"colab-df-container\">\n",
              "    <div>\n",
              "<style scoped>\n",
              "    .dataframe tbody tr th:only-of-type {\n",
              "        vertical-align: middle;\n",
              "    }\n",
              "\n",
              "    .dataframe tbody tr th {\n",
              "        vertical-align: top;\n",
              "    }\n",
              "\n",
              "    .dataframe thead th {\n",
              "        text-align: right;\n",
              "    }\n",
              "</style>\n",
              "<table border=\"1\" class=\"dataframe\">\n",
              "  <thead>\n",
              "    <tr style=\"text-align: right;\">\n",
              "      <th></th>\n",
              "      <th>entidadfederativa</th>\n",
              "      <th>sujetoobligado</th>\n",
              "      <th>nombre</th>\n",
              "      <th>denominacion</th>\n",
              "      <th>montoneto</th>\n",
              "      <th>cargo</th>\n",
              "      <th>area</th>\n",
              "      <th>montobruto</th>\n",
              "      <th>idInformacion</th>\n",
              "      <th>periodoreportainicio</th>\n",
              "      <th>periodoreportafin</th>\n",
              "    </tr>\n",
              "  </thead>\n",
              "  <tbody>\n",
              "    <tr>\n",
              "      <th>0</th>\n",
              "      <td>Hidalgo</td>\n",
              "      <td>Jaltocán</td>\n",
              "      <td>Adolfo Hernandez Hernandez</td>\n",
              "      <td>Fontanero</td>\n",
              "      <td>4000.00</td>\n",
              "      <td>Fontanero</td>\n",
              "      <td>OBRAS PUBLICAS</td>\n",
              "      <td>4254.00</td>\n",
              "      <td>16311845.0</td>\n",
              "      <td>01/01/2018</td>\n",
              "      <td>30/06/2018</td>\n",
              "    </tr>\n",
              "    <tr>\n",
              "      <th>1</th>\n",
              "      <td>Ciudad de México</td>\n",
              "      <td>Secretaría de Salud</td>\n",
              "      <td>ARELY SAMANTA CLEOFAS VELASCO</td>\n",
              "      <td>AUXILIAR DE ENFERMERIA \"A\"</td>\n",
              "      <td>12177.86</td>\n",
              "      <td>AUXILIAR DE ENFERMERIA \"A\"</td>\n",
              "      <td>H.G. ENRIQUE CABRERA</td>\n",
              "      <td>16092.00</td>\n",
              "      <td>16480190.0</td>\n",
              "      <td>01/01/2018</td>\n",
              "      <td>31/03/2018</td>\n",
              "    </tr>\n",
              "    <tr>\n",
              "      <th>2</th>\n",
              "      <td>Ciudad de México</td>\n",
              "      <td>Secretaría de Seguridad Ciudadana</td>\n",
              "      <td>MELODY OLIMPIC GONZALEZ MONTES</td>\n",
              "      <td>POLICIA PRIMERO</td>\n",
              "      <td>11652.00</td>\n",
              "      <td>POLICIA PRIMERO</td>\n",
              "      <td>SUBSECRETARIA DE OPERACION POLICIAL</td>\n",
              "      <td>16030.00</td>\n",
              "      <td>17599078.0</td>\n",
              "      <td>01/01/2020</td>\n",
              "      <td>31/03/2020</td>\n",
              "    </tr>\n",
              "    <tr>\n",
              "      <th>3</th>\n",
              "      <td>Federación</td>\n",
              "      <td>Autoridad Educativa Federal en la Ciudad de Mé...</td>\n",
              "      <td>ANGEL ALLENDE PULIDO</td>\n",
              "      <td>APOYO Y ASISTENCIA A LA EDUCACION</td>\n",
              "      <td>10180.57</td>\n",
              "      <td>APOYO Y ASISTENCIA A LA EDUCACION</td>\n",
              "      <td>DIRECCIÓN GENERAL DE OPERACIONES DE SERVICIOS ...</td>\n",
              "      <td>2910.65</td>\n",
              "      <td>6514612.0</td>\n",
              "      <td>01/07/2018</td>\n",
              "      <td>31/12/2018</td>\n",
              "    </tr>\n",
              "    <tr>\n",
              "      <th>4</th>\n",
              "      <td>Aguascalientes</td>\n",
              "      <td>MUNICIPIO DE RINCÓN DE ROMOS</td>\n",
              "      <td>Yolanda Reyes Gonzalez</td>\n",
              "      <td>DIRECTOR</td>\n",
              "      <td>17004.40</td>\n",
              "      <td>DIRECTOR</td>\n",
              "      <td>ACCION CIVICA</td>\n",
              "      <td>6188.40</td>\n",
              "      <td>11927166.0</td>\n",
              "      <td>01/07/2019</td>\n",
              "      <td>31/12/2019</td>\n",
              "    </tr>\n",
              "  </tbody>\n",
              "</table>\n",
              "</div>\n",
              "    <div class=\"colab-df-buttons\">\n",
              "\n",
              "  <div class=\"colab-df-container\">\n",
              "    <button class=\"colab-df-convert\" onclick=\"convertToInteractive('df-86f5a384-bfd5-45e5-b8ba-39855e4d6946')\"\n",
              "            title=\"Convert this dataframe to an interactive table.\"\n",
              "            style=\"display:none;\">\n",
              "\n",
              "  <svg xmlns=\"http://www.w3.org/2000/svg\" height=\"24px\" viewBox=\"0 -960 960 960\">\n",
              "    <path d=\"M120-120v-720h720v720H120Zm60-500h600v-160H180v160Zm220 220h160v-160H400v160Zm0 220h160v-160H400v160ZM180-400h160v-160H180v160Zm440 0h160v-160H620v160ZM180-180h160v-160H180v160Zm440 0h160v-160H620v160Z\"/>\n",
              "  </svg>\n",
              "    </button>\n",
              "\n",
              "  <style>\n",
              "    .colab-df-container {\n",
              "      display:flex;\n",
              "      gap: 12px;\n",
              "    }\n",
              "\n",
              "    .colab-df-convert {\n",
              "      background-color: #E8F0FE;\n",
              "      border: none;\n",
              "      border-radius: 50%;\n",
              "      cursor: pointer;\n",
              "      display: none;\n",
              "      fill: #1967D2;\n",
              "      height: 32px;\n",
              "      padding: 0 0 0 0;\n",
              "      width: 32px;\n",
              "    }\n",
              "\n",
              "    .colab-df-convert:hover {\n",
              "      background-color: #E2EBFA;\n",
              "      box-shadow: 0px 1px 2px rgba(60, 64, 67, 0.3), 0px 1px 3px 1px rgba(60, 64, 67, 0.15);\n",
              "      fill: #174EA6;\n",
              "    }\n",
              "\n",
              "    .colab-df-buttons div {\n",
              "      margin-bottom: 4px;\n",
              "    }\n",
              "\n",
              "    [theme=dark] .colab-df-convert {\n",
              "      background-color: #3B4455;\n",
              "      fill: #D2E3FC;\n",
              "    }\n",
              "\n",
              "    [theme=dark] .colab-df-convert:hover {\n",
              "      background-color: #434B5C;\n",
              "      box-shadow: 0px 1px 3px 1px rgba(0, 0, 0, 0.15);\n",
              "      filter: drop-shadow(0px 1px 2px rgba(0, 0, 0, 0.3));\n",
              "      fill: #FFFFFF;\n",
              "    }\n",
              "  </style>\n",
              "\n",
              "    <script>\n",
              "      const buttonEl =\n",
              "        document.querySelector('#df-86f5a384-bfd5-45e5-b8ba-39855e4d6946 button.colab-df-convert');\n",
              "      buttonEl.style.display =\n",
              "        google.colab.kernel.accessAllowed ? 'block' : 'none';\n",
              "\n",
              "      async function convertToInteractive(key) {\n",
              "        const element = document.querySelector('#df-86f5a384-bfd5-45e5-b8ba-39855e4d6946');\n",
              "        const dataTable =\n",
              "          await google.colab.kernel.invokeFunction('convertToInteractive',\n",
              "                                                    [key], {});\n",
              "        if (!dataTable) return;\n",
              "\n",
              "        const docLinkHtml = 'Like what you see? Visit the ' +\n",
              "          '<a target=\"_blank\" href=https://colab.research.google.com/notebooks/data_table.ipynb>data table notebook</a>'\n",
              "          + ' to learn more about interactive tables.';\n",
              "        element.innerHTML = '';\n",
              "        dataTable['output_type'] = 'display_data';\n",
              "        await google.colab.output.renderOutput(dataTable, element);\n",
              "        const docLink = document.createElement('div');\n",
              "        docLink.innerHTML = docLinkHtml;\n",
              "        element.appendChild(docLink);\n",
              "      }\n",
              "    </script>\n",
              "  </div>\n",
              "\n",
              "\n",
              "<div id=\"df-eeaaa4e5-1e24-4330-97ab-5e25af3406ac\">\n",
              "  <button class=\"colab-df-quickchart\" onclick=\"quickchart('df-eeaaa4e5-1e24-4330-97ab-5e25af3406ac')\"\n",
              "            title=\"Suggest charts\"\n",
              "            style=\"display:none;\">\n",
              "\n",
              "<svg xmlns=\"http://www.w3.org/2000/svg\" height=\"24px\"viewBox=\"0 0 24 24\"\n",
              "     width=\"24px\">\n",
              "    <g>\n",
              "        <path d=\"M19 3H5c-1.1 0-2 .9-2 2v14c0 1.1.9 2 2 2h14c1.1 0 2-.9 2-2V5c0-1.1-.9-2-2-2zM9 17H7v-7h2v7zm4 0h-2V7h2v10zm4 0h-2v-4h2v4z\"/>\n",
              "    </g>\n",
              "</svg>\n",
              "  </button>\n",
              "\n",
              "<style>\n",
              "  .colab-df-quickchart {\n",
              "      --bg-color: #E8F0FE;\n",
              "      --fill-color: #1967D2;\n",
              "      --hover-bg-color: #E2EBFA;\n",
              "      --hover-fill-color: #174EA6;\n",
              "      --disabled-fill-color: #AAA;\n",
              "      --disabled-bg-color: #DDD;\n",
              "  }\n",
              "\n",
              "  [theme=dark] .colab-df-quickchart {\n",
              "      --bg-color: #3B4455;\n",
              "      --fill-color: #D2E3FC;\n",
              "      --hover-bg-color: #434B5C;\n",
              "      --hover-fill-color: #FFFFFF;\n",
              "      --disabled-bg-color: #3B4455;\n",
              "      --disabled-fill-color: #666;\n",
              "  }\n",
              "\n",
              "  .colab-df-quickchart {\n",
              "    background-color: var(--bg-color);\n",
              "    border: none;\n",
              "    border-radius: 50%;\n",
              "    cursor: pointer;\n",
              "    display: none;\n",
              "    fill: var(--fill-color);\n",
              "    height: 32px;\n",
              "    padding: 0;\n",
              "    width: 32px;\n",
              "  }\n",
              "\n",
              "  .colab-df-quickchart:hover {\n",
              "    background-color: var(--hover-bg-color);\n",
              "    box-shadow: 0 1px 2px rgba(60, 64, 67, 0.3), 0 1px 3px 1px rgba(60, 64, 67, 0.15);\n",
              "    fill: var(--button-hover-fill-color);\n",
              "  }\n",
              "\n",
              "  .colab-df-quickchart-complete:disabled,\n",
              "  .colab-df-quickchart-complete:disabled:hover {\n",
              "    background-color: var(--disabled-bg-color);\n",
              "    fill: var(--disabled-fill-color);\n",
              "    box-shadow: none;\n",
              "  }\n",
              "\n",
              "  .colab-df-spinner {\n",
              "    border: 2px solid var(--fill-color);\n",
              "    border-color: transparent;\n",
              "    border-bottom-color: var(--fill-color);\n",
              "    animation:\n",
              "      spin 1s steps(1) infinite;\n",
              "  }\n",
              "\n",
              "  @keyframes spin {\n",
              "    0% {\n",
              "      border-color: transparent;\n",
              "      border-bottom-color: var(--fill-color);\n",
              "      border-left-color: var(--fill-color);\n",
              "    }\n",
              "    20% {\n",
              "      border-color: transparent;\n",
              "      border-left-color: var(--fill-color);\n",
              "      border-top-color: var(--fill-color);\n",
              "    }\n",
              "    30% {\n",
              "      border-color: transparent;\n",
              "      border-left-color: var(--fill-color);\n",
              "      border-top-color: var(--fill-color);\n",
              "      border-right-color: var(--fill-color);\n",
              "    }\n",
              "    40% {\n",
              "      border-color: transparent;\n",
              "      border-right-color: var(--fill-color);\n",
              "      border-top-color: var(--fill-color);\n",
              "    }\n",
              "    60% {\n",
              "      border-color: transparent;\n",
              "      border-right-color: var(--fill-color);\n",
              "    }\n",
              "    80% {\n",
              "      border-color: transparent;\n",
              "      border-right-color: var(--fill-color);\n",
              "      border-bottom-color: var(--fill-color);\n",
              "    }\n",
              "    90% {\n",
              "      border-color: transparent;\n",
              "      border-bottom-color: var(--fill-color);\n",
              "    }\n",
              "  }\n",
              "</style>\n",
              "\n",
              "  <script>\n",
              "    async function quickchart(key) {\n",
              "      const quickchartButtonEl =\n",
              "        document.querySelector('#' + key + ' button');\n",
              "      quickchartButtonEl.disabled = true;  // To prevent multiple clicks.\n",
              "      quickchartButtonEl.classList.add('colab-df-spinner');\n",
              "      try {\n",
              "        const charts = await google.colab.kernel.invokeFunction(\n",
              "            'suggestCharts', [key], {});\n",
              "      } catch (error) {\n",
              "        console.error('Error during call to suggestCharts:', error);\n",
              "      }\n",
              "      quickchartButtonEl.classList.remove('colab-df-spinner');\n",
              "      quickchartButtonEl.classList.add('colab-df-quickchart-complete');\n",
              "    }\n",
              "    (() => {\n",
              "      let quickchartButtonEl =\n",
              "        document.querySelector('#df-eeaaa4e5-1e24-4330-97ab-5e25af3406ac button');\n",
              "      quickchartButtonEl.style.display =\n",
              "        google.colab.kernel.accessAllowed ? 'block' : 'none';\n",
              "    })();\n",
              "  </script>\n",
              "</div>\n",
              "\n",
              "    </div>\n",
              "  </div>\n"
            ],
            "application/vnd.google.colaboratory.intrinsic+json": {
              "type": "dataframe",
              "variable_name": "data",
              "summary": "{\n  \"name\": \"data\",\n  \"rows\": 20238,\n  \"fields\": [\n    {\n      \"column\": \"entidadfederativa\",\n      \"properties\": {\n        \"dtype\": \"category\",\n        \"samples\": [\n          \"Nayarit\",\n          \"Baja California Sur\",\n          \"Sonora\"\n        ],\n        \"num_unique_values\": 32,\n        \"semantic_type\": \"\",\n        \"description\": \"\"\n      }\n    },\n    {\n      \"column\": \"sujetoobligado\",\n      \"properties\": {\n        \"dtype\": \"category\",\n        \"samples\": [\n          \"Universidad Aut\\u00f3noma del Estado de Baja California\",\n          \"Fideicomiso de Fomento Minero (FIFOMI)\",\n          \"Aeropuertos y Servicios Auxiliares (ASA)\"\n        ],\n        \"num_unique_values\": 1111,\n        \"semantic_type\": \"\",\n        \"description\": \"\"\n      }\n    },\n    {\n      \"column\": \"nombre\",\n      \"properties\": {\n        \"dtype\": \"string\",\n        \"samples\": [\n          \"Socorro Mendoza Trevino\",\n          \"LUIS DAVID OCHOA MARTINEZ\",\n          \"JAVIER BERROSPE RUEDA\"\n        ],\n        \"num_unique_values\": 19393,\n        \"semantic_type\": \"\",\n        \"description\": \"\"\n      }\n    },\n    {\n      \"column\": \"denominacion\",\n      \"properties\": {\n        \"dtype\": \"category\",\n        \"samples\": [\n          \"PROFESOR ASOCIADO A ES TC FOR\",\n          \"JEFE DE UNIDAD DE ATENCION MEDICA D I\",\n          \"AYUDANTE DE MARINA-TRABAJOS GENERALES\"\n        ],\n        \"num_unique_values\": 4998,\n        \"semantic_type\": \"\",\n        \"description\": \"\"\n      }\n    },\n    {\n      \"column\": \"montoneto\",\n      \"properties\": {\n        \"dtype\": \"number\",\n        \"std\": 24585.847311412213,\n        \"min\": -215176.11,\n        \"max\": 2508053.0,\n        \"samples\": [\n          354.26,\n          5020.0,\n          2340.44\n        ],\n        \"num_unique_values\": 13548,\n        \"semantic_type\": \"\",\n        \"description\": \"\"\n      }\n    },\n    {\n      \"column\": \"cargo\",\n      \"properties\": {\n        \"dtype\": \"category\",\n        \"samples\": [\n          \"PROFESOR ASOCIADO A ES TC FOR\",\n          \"JEFE DE UNIDAD DE ATENCION MEDICA D I\",\n          \"AYUDANTE DE MARINA-TRABAJOS GENERALES\"\n        ],\n        \"num_unique_values\": 4998,\n        \"semantic_type\": \"\",\n        \"description\": \"\"\n      }\n    },\n    {\n      \"column\": \"area\",\n      \"properties\": {\n        \"dtype\": \"category\",\n        \"samples\": [\n          \"Secretar\\u00eda de Desarrollo Rural\",\n          \"Delegacion Xi Yajalon\",\n          \"SECRETARIA DE FINANZAS Y TESORERIA MUNICIPAL\"\n        ],\n        \"num_unique_values\": 8689,\n        \"semantic_type\": \"\",\n        \"description\": \"\"\n      }\n    },\n    {\n      \"column\": \"montobruto\",\n      \"properties\": {\n        \"dtype\": \"number\",\n        \"std\": 20105.370109222542,\n        \"min\": -243402.14,\n        \"max\": 961292.76,\n        \"samples\": [\n          16610.28,\n          12101.37,\n          2457.04\n        ],\n        \"num_unique_values\": 11852,\n        \"semantic_type\": \"\",\n        \"description\": \"\"\n      }\n    },\n    {\n      \"column\": \"idInformacion\",\n      \"properties\": {\n        \"dtype\": \"number\",\n        \"std\": 12050988.981876703,\n        \"min\": 2130.0,\n        \"max\": 73298508.0,\n        \"samples\": [\n          14381427.0,\n          9645377.0,\n          13147703.0\n        ],\n        \"num_unique_values\": 20237,\n        \"semantic_type\": \"\",\n        \"description\": \"\"\n      }\n    },\n    {\n      \"column\": \"periodoreportainicio\",\n      \"properties\": {\n        \"dtype\": \"category\",\n        \"samples\": [\n          \"16/06/2020\",\n          \"01/10/2017\",\n          \"16/01/2018\"\n        ],\n        \"num_unique_values\": 149,\n        \"semantic_type\": \"\",\n        \"description\": \"\"\n      }\n    },\n    {\n      \"column\": \"periodoreportafin\",\n      \"properties\": {\n        \"dtype\": \"category\",\n        \"samples\": [\n          \"21/12/2019\",\n          \"31/12/2016\",\n          \"15/09/2017\"\n        ],\n        \"num_unique_values\": 164,\n        \"semantic_type\": \"\",\n        \"description\": \"\"\n      }\n    }\n  ]\n}"
            }
          },
          "metadata": {},
          "execution_count": 5
        }
      ]
    },
    {
      "cell_type": "code",
      "source": [
        "# Mostrar información sobre el DataFrame\n",
        "print(data.shape)\n",
        "data.info()"
      ],
      "metadata": {
        "colab": {
          "base_uri": "https://localhost:8080/"
        },
        "id": "p5LC4uV5SNdS",
        "outputId": "a7f2d7af-7b34-44ed-8ee7-71119cf98293"
      },
      "execution_count": null,
      "outputs": [
        {
          "output_type": "stream",
          "name": "stdout",
          "text": [
            "(20238, 11)\n",
            "<class 'pandas.core.frame.DataFrame'>\n",
            "RangeIndex: 20238 entries, 0 to 20237\n",
            "Data columns (total 11 columns):\n",
            " #   Column                Non-Null Count  Dtype  \n",
            "---  ------                --------------  -----  \n",
            " 0   entidadfederativa     20238 non-null  object \n",
            " 1   sujetoobligado        20238 non-null  object \n",
            " 2   nombre                19893 non-null  object \n",
            " 3   denominacion          19663 non-null  object \n",
            " 4   montoneto             19288 non-null  float64\n",
            " 5   cargo                 19663 non-null  object \n",
            " 6   area                  19872 non-null  object \n",
            " 7   montobruto            19787 non-null  float64\n",
            " 8   idInformacion         20237 non-null  float64\n",
            " 9   periodoreportainicio  20237 non-null  object \n",
            " 10  periodoreportafin     20237 non-null  object \n",
            "dtypes: float64(3), object(8)\n",
            "memory usage: 1.7+ MB\n"
          ]
        }
      ]
    },
    {
      "cell_type": "markdown",
      "source": [
        "# 4. Limpieza\n",
        "Realizaremos el proceso de limpieza teniendo en cuenta las situaciones más comunes:\n",
        "1.   Datos faltantes en algunas celdas\n",
        "2.   Columnas irrelevantes (que no corresponden al problema que queremos resolver)\n",
        "3. Registros (filas) repetidos.\n",
        "4. Valores externos (outliers) en el caso de las variables numéricas. Se deben analizar en detalle pues no necesariamente la solución es eliminarlos.\n",
        "5. Errores tipográficos en el caso de las variables categóricas.\n",
        "\n",
        "Al final de este proceso de limipeza deberíamos tener un dataset íntegro, listo para la fase de Análisis Exploratorio.\n",
        "\n"
      ],
      "metadata": {
        "id": "9ZPxTzDMoEkX"
      }
    },
    {
      "cell_type": "markdown",
      "source": [
        "## 4.1 Datos faltantes\n",
        "\n",
        "Datos no están completos, pues no todas las columnas tienen la misma cantidad de registros.\n",
        "\n",
        "Por ser tan pocos los datos  faltantes optaremos por eliminar las filas correspondientes:"
      ],
      "metadata": {
        "id": "jIMqycB6pvZe"
      }
    },
    {
      "cell_type": "code",
      "source": [
        "data.dropna(inplace=True)\n",
        "print(data.shape)\n",
        "data.info()"
      ],
      "metadata": {
        "colab": {
          "base_uri": "https://localhost:8080/"
        },
        "id": "z123xO1zSblf",
        "outputId": "86efd8bb-8cf8-4e17-f3ec-17113691c6e9"
      },
      "execution_count": null,
      "outputs": [
        {
          "output_type": "stream",
          "name": "stdout",
          "text": [
            "(18869, 11)\n",
            "<class 'pandas.core.frame.DataFrame'>\n",
            "Int64Index: 18869 entries, 0 to 20235\n",
            "Data columns (total 11 columns):\n",
            " #   Column                Non-Null Count  Dtype  \n",
            "---  ------                --------------  -----  \n",
            " 0   entidadfederativa     18869 non-null  object \n",
            " 1   sujetoobligado        18869 non-null  object \n",
            " 2   nombre                18869 non-null  object \n",
            " 3   denominacion          18869 non-null  object \n",
            " 4   montoneto             18869 non-null  float64\n",
            " 5   cargo                 18869 non-null  object \n",
            " 6   area                  18869 non-null  object \n",
            " 7   montobruto            18869 non-null  float64\n",
            " 8   idInformacion         18869 non-null  float64\n",
            " 9   periodoreportainicio  18869 non-null  object \n",
            " 10  periodoreportafin     18869 non-null  object \n",
            "dtypes: float64(3), object(8)\n",
            "memory usage: 1.7+ MB\n"
          ]
        }
      ]
    },
    {
      "cell_type": "markdown",
      "source": [
        "- Después de aplicar dropna(), se eliminaron las filas que contenían al menos un valor nulo en alguna de las columnas. Por lo tanto, el número de filas se redujo de 1,978,155 a 1,850,529.\n",
        "- Las columnas y sus tipos de datos permanecen iguales: object para las columnas de texto, float64 para las columnas numéricas y int64 para la columna de números enteros.\n",
        "- La memoria utilizada por el DataFrame después de eliminar las filas nulas ha aumentado ligeramente de aproximadamente 166.0 MB a 169.4 MB. Esto puede deberse a que la operación de eliminación de filas nulas creó un nuevo DataFrame en memoria con menos filas, pero el tamaño total de los datos restantes sigue siendo similar."
      ],
      "metadata": {
        "id": "WEy7nRcD6Jh8"
      }
    },
    {
      "cell_type": "markdown",
      "source": [
        "##4.2 Columnas irrelevantes\n",
        "\n",
        "Una columna irrelevante puede ser:\n",
        "\n",
        "- **Una columna que no contiene información relevante para el problema que queremos resolver**.\n",
        "- **Una columna categórica pero con un sólo nivel**.\n",
        "- **Una columna numérica pero con un sólo valor**.\n",
        "- **Columnas con información redundante**.\n",
        "\n",
        "Si tenemos la duda de si alguna columna puede ser relevante o no lo mejor es dejarla (y más adelante en posteriores etapas podremos darnos cuenta de si se debe preservar o no).\n",
        "\n",
        "En este caso todas las columnas pueden resultar relevantes, pero debemos verificar que no haya columnas categóricas con un sólo nivel, o columnas numéricas con un sólo valor:"
      ],
      "metadata": {
        "id": "8_CY5bWrp7Xx"
      }
    },
    {
      "cell_type": "code",
      "source": [
        "# Eliminamos la columa irrelevante, no aporta información sobre los salarios\n",
        "data = data.drop('idInformacion', axis=1)"
      ],
      "metadata": {
        "id": "uICZyg2Iu7oa"
      },
      "execution_count": null,
      "outputs": []
    },
    {
      "cell_type": "code",
      "source": [
        "# Conteo de los niveles en las diferentes columnas categóricas\n",
        "cols_cat = ['entidadfederativa', 'sujetoobligado', 'nombre', 'denominacion', 'cargo', 'area', 'periodoreportainicio', 'periodoreportafin']\n",
        "\n",
        "for col in cols_cat:\n",
        "    print(f'Columna {col}: {data[col].nunique()} subniveles')\n"
      ],
      "metadata": {
        "colab": {
          "base_uri": "https://localhost:8080/"
        },
        "id": "Hgl9RuirSnMV",
        "outputId": "5938a0d3-94d1-4127-a6cd-43728720a443"
      },
      "execution_count": null,
      "outputs": [
        {
          "output_type": "stream",
          "name": "stdout",
          "text": [
            "Columna entidadfederativa: 31 subniveles\n",
            "Columna sujetoobligado: 1045 subniveles\n",
            "Columna nombre: 18389 subniveles\n",
            "Columna denominacion: 4938 subniveles\n",
            "Columna cargo: 4938 subniveles\n",
            "Columna area: 8316 subniveles\n",
            "Columna periodoreportainicio: 147 subniveles\n",
            "Columna periodoreportafin: 159 subniveles\n"
          ]
        }
      ]
    },
    {
      "cell_type": "markdown",
      "source": [
        "Todas las columnas categóricas tienen más de 1 subnivel. No eliminaremos ninguna.\n",
        "\n",
        "Verifiquemos lo que ocurre con las columnas numéricas:"
      ],
      "metadata": {
        "id": "xxb4uZmV_dwk"
      }
    },
    {
      "cell_type": "code",
      "source": [
        "data.describe()"
      ],
      "metadata": {
        "colab": {
          "base_uri": "https://localhost:8080/",
          "height": 300
        },
        "id": "Kf8yQ9kC_g9c",
        "outputId": "7715a3b7-969d-45a9-f9b2-74acb8495943"
      },
      "execution_count": null,
      "outputs": [
        {
          "output_type": "execute_result",
          "data": {
            "text/plain": [
              "          montoneto     montobruto\n",
              "count  1.886900e+04   18869.000000\n",
              "mean   1.303906e+04   16375.786141\n",
              "std    2.475035e+04   20298.196077\n",
              "min   -2.151761e+05 -243402.140000\n",
              "25%    6.039360e+03    7752.180000\n",
              "50%    9.756000e+03   12216.210000\n",
              "75%    1.512490e+04   18580.020000\n",
              "max    2.508053e+06  961292.760000"
            ],
            "text/html": [
              "\n",
              "  <div id=\"df-8c2fcb12-c48b-40bf-8ca8-6c808f930aa6\" class=\"colab-df-container\">\n",
              "    <div>\n",
              "<style scoped>\n",
              "    .dataframe tbody tr th:only-of-type {\n",
              "        vertical-align: middle;\n",
              "    }\n",
              "\n",
              "    .dataframe tbody tr th {\n",
              "        vertical-align: top;\n",
              "    }\n",
              "\n",
              "    .dataframe thead th {\n",
              "        text-align: right;\n",
              "    }\n",
              "</style>\n",
              "<table border=\"1\" class=\"dataframe\">\n",
              "  <thead>\n",
              "    <tr style=\"text-align: right;\">\n",
              "      <th></th>\n",
              "      <th>montoneto</th>\n",
              "      <th>montobruto</th>\n",
              "    </tr>\n",
              "  </thead>\n",
              "  <tbody>\n",
              "    <tr>\n",
              "      <th>count</th>\n",
              "      <td>1.886900e+04</td>\n",
              "      <td>18869.000000</td>\n",
              "    </tr>\n",
              "    <tr>\n",
              "      <th>mean</th>\n",
              "      <td>1.303906e+04</td>\n",
              "      <td>16375.786141</td>\n",
              "    </tr>\n",
              "    <tr>\n",
              "      <th>std</th>\n",
              "      <td>2.475035e+04</td>\n",
              "      <td>20298.196077</td>\n",
              "    </tr>\n",
              "    <tr>\n",
              "      <th>min</th>\n",
              "      <td>-2.151761e+05</td>\n",
              "      <td>-243402.140000</td>\n",
              "    </tr>\n",
              "    <tr>\n",
              "      <th>25%</th>\n",
              "      <td>6.039360e+03</td>\n",
              "      <td>7752.180000</td>\n",
              "    </tr>\n",
              "    <tr>\n",
              "      <th>50%</th>\n",
              "      <td>9.756000e+03</td>\n",
              "      <td>12216.210000</td>\n",
              "    </tr>\n",
              "    <tr>\n",
              "      <th>75%</th>\n",
              "      <td>1.512490e+04</td>\n",
              "      <td>18580.020000</td>\n",
              "    </tr>\n",
              "    <tr>\n",
              "      <th>max</th>\n",
              "      <td>2.508053e+06</td>\n",
              "      <td>961292.760000</td>\n",
              "    </tr>\n",
              "  </tbody>\n",
              "</table>\n",
              "</div>\n",
              "    <div class=\"colab-df-buttons\">\n",
              "\n",
              "  <div class=\"colab-df-container\">\n",
              "    <button class=\"colab-df-convert\" onclick=\"convertToInteractive('df-8c2fcb12-c48b-40bf-8ca8-6c808f930aa6')\"\n",
              "            title=\"Convert this dataframe to an interactive table.\"\n",
              "            style=\"display:none;\">\n",
              "\n",
              "  <svg xmlns=\"http://www.w3.org/2000/svg\" height=\"24px\" viewBox=\"0 -960 960 960\">\n",
              "    <path d=\"M120-120v-720h720v720H120Zm60-500h600v-160H180v160Zm220 220h160v-160H400v160Zm0 220h160v-160H400v160ZM180-400h160v-160H180v160Zm440 0h160v-160H620v160ZM180-180h160v-160H180v160Zm440 0h160v-160H620v160Z\"/>\n",
              "  </svg>\n",
              "    </button>\n",
              "\n",
              "  <style>\n",
              "    .colab-df-container {\n",
              "      display:flex;\n",
              "      gap: 12px;\n",
              "    }\n",
              "\n",
              "    .colab-df-convert {\n",
              "      background-color: #E8F0FE;\n",
              "      border: none;\n",
              "      border-radius: 50%;\n",
              "      cursor: pointer;\n",
              "      display: none;\n",
              "      fill: #1967D2;\n",
              "      height: 32px;\n",
              "      padding: 0 0 0 0;\n",
              "      width: 32px;\n",
              "    }\n",
              "\n",
              "    .colab-df-convert:hover {\n",
              "      background-color: #E2EBFA;\n",
              "      box-shadow: 0px 1px 2px rgba(60, 64, 67, 0.3), 0px 1px 3px 1px rgba(60, 64, 67, 0.15);\n",
              "      fill: #174EA6;\n",
              "    }\n",
              "\n",
              "    .colab-df-buttons div {\n",
              "      margin-bottom: 4px;\n",
              "    }\n",
              "\n",
              "    [theme=dark] .colab-df-convert {\n",
              "      background-color: #3B4455;\n",
              "      fill: #D2E3FC;\n",
              "    }\n",
              "\n",
              "    [theme=dark] .colab-df-convert:hover {\n",
              "      background-color: #434B5C;\n",
              "      box-shadow: 0px 1px 3px 1px rgba(0, 0, 0, 0.15);\n",
              "      filter: drop-shadow(0px 1px 2px rgba(0, 0, 0, 0.3));\n",
              "      fill: #FFFFFF;\n",
              "    }\n",
              "  </style>\n",
              "\n",
              "    <script>\n",
              "      const buttonEl =\n",
              "        document.querySelector('#df-8c2fcb12-c48b-40bf-8ca8-6c808f930aa6 button.colab-df-convert');\n",
              "      buttonEl.style.display =\n",
              "        google.colab.kernel.accessAllowed ? 'block' : 'none';\n",
              "\n",
              "      async function convertToInteractive(key) {\n",
              "        const element = document.querySelector('#df-8c2fcb12-c48b-40bf-8ca8-6c808f930aa6');\n",
              "        const dataTable =\n",
              "          await google.colab.kernel.invokeFunction('convertToInteractive',\n",
              "                                                    [key], {});\n",
              "        if (!dataTable) return;\n",
              "\n",
              "        const docLinkHtml = 'Like what you see? Visit the ' +\n",
              "          '<a target=\"_blank\" href=https://colab.research.google.com/notebooks/data_table.ipynb>data table notebook</a>'\n",
              "          + ' to learn more about interactive tables.';\n",
              "        element.innerHTML = '';\n",
              "        dataTable['output_type'] = 'display_data';\n",
              "        await google.colab.output.renderOutput(dataTable, element);\n",
              "        const docLink = document.createElement('div');\n",
              "        docLink.innerHTML = docLinkHtml;\n",
              "        element.appendChild(docLink);\n",
              "      }\n",
              "    </script>\n",
              "  </div>\n",
              "\n",
              "\n",
              "<div id=\"df-1cfb6fd5-ec0d-4427-94fb-5d435ed61185\">\n",
              "  <button class=\"colab-df-quickchart\" onclick=\"quickchart('df-1cfb6fd5-ec0d-4427-94fb-5d435ed61185')\"\n",
              "            title=\"Suggest charts\"\n",
              "            style=\"display:none;\">\n",
              "\n",
              "<svg xmlns=\"http://www.w3.org/2000/svg\" height=\"24px\"viewBox=\"0 0 24 24\"\n",
              "     width=\"24px\">\n",
              "    <g>\n",
              "        <path d=\"M19 3H5c-1.1 0-2 .9-2 2v14c0 1.1.9 2 2 2h14c1.1 0 2-.9 2-2V5c0-1.1-.9-2-2-2zM9 17H7v-7h2v7zm4 0h-2V7h2v10zm4 0h-2v-4h2v4z\"/>\n",
              "    </g>\n",
              "</svg>\n",
              "  </button>\n",
              "\n",
              "<style>\n",
              "  .colab-df-quickchart {\n",
              "      --bg-color: #E8F0FE;\n",
              "      --fill-color: #1967D2;\n",
              "      --hover-bg-color: #E2EBFA;\n",
              "      --hover-fill-color: #174EA6;\n",
              "      --disabled-fill-color: #AAA;\n",
              "      --disabled-bg-color: #DDD;\n",
              "  }\n",
              "\n",
              "  [theme=dark] .colab-df-quickchart {\n",
              "      --bg-color: #3B4455;\n",
              "      --fill-color: #D2E3FC;\n",
              "      --hover-bg-color: #434B5C;\n",
              "      --hover-fill-color: #FFFFFF;\n",
              "      --disabled-bg-color: #3B4455;\n",
              "      --disabled-fill-color: #666;\n",
              "  }\n",
              "\n",
              "  .colab-df-quickchart {\n",
              "    background-color: var(--bg-color);\n",
              "    border: none;\n",
              "    border-radius: 50%;\n",
              "    cursor: pointer;\n",
              "    display: none;\n",
              "    fill: var(--fill-color);\n",
              "    height: 32px;\n",
              "    padding: 0;\n",
              "    width: 32px;\n",
              "  }\n",
              "\n",
              "  .colab-df-quickchart:hover {\n",
              "    background-color: var(--hover-bg-color);\n",
              "    box-shadow: 0 1px 2px rgba(60, 64, 67, 0.3), 0 1px 3px 1px rgba(60, 64, 67, 0.15);\n",
              "    fill: var(--button-hover-fill-color);\n",
              "  }\n",
              "\n",
              "  .colab-df-quickchart-complete:disabled,\n",
              "  .colab-df-quickchart-complete:disabled:hover {\n",
              "    background-color: var(--disabled-bg-color);\n",
              "    fill: var(--disabled-fill-color);\n",
              "    box-shadow: none;\n",
              "  }\n",
              "\n",
              "  .colab-df-spinner {\n",
              "    border: 2px solid var(--fill-color);\n",
              "    border-color: transparent;\n",
              "    border-bottom-color: var(--fill-color);\n",
              "    animation:\n",
              "      spin 1s steps(1) infinite;\n",
              "  }\n",
              "\n",
              "  @keyframes spin {\n",
              "    0% {\n",
              "      border-color: transparent;\n",
              "      border-bottom-color: var(--fill-color);\n",
              "      border-left-color: var(--fill-color);\n",
              "    }\n",
              "    20% {\n",
              "      border-color: transparent;\n",
              "      border-left-color: var(--fill-color);\n",
              "      border-top-color: var(--fill-color);\n",
              "    }\n",
              "    30% {\n",
              "      border-color: transparent;\n",
              "      border-left-color: var(--fill-color);\n",
              "      border-top-color: var(--fill-color);\n",
              "      border-right-color: var(--fill-color);\n",
              "    }\n",
              "    40% {\n",
              "      border-color: transparent;\n",
              "      border-right-color: var(--fill-color);\n",
              "      border-top-color: var(--fill-color);\n",
              "    }\n",
              "    60% {\n",
              "      border-color: transparent;\n",
              "      border-right-color: var(--fill-color);\n",
              "    }\n",
              "    80% {\n",
              "      border-color: transparent;\n",
              "      border-right-color: var(--fill-color);\n",
              "      border-bottom-color: var(--fill-color);\n",
              "    }\n",
              "    90% {\n",
              "      border-color: transparent;\n",
              "      border-bottom-color: var(--fill-color);\n",
              "    }\n",
              "  }\n",
              "</style>\n",
              "\n",
              "  <script>\n",
              "    async function quickchart(key) {\n",
              "      const quickchartButtonEl =\n",
              "        document.querySelector('#' + key + ' button');\n",
              "      quickchartButtonEl.disabled = true;  // To prevent multiple clicks.\n",
              "      quickchartButtonEl.classList.add('colab-df-spinner');\n",
              "      try {\n",
              "        const charts = await google.colab.kernel.invokeFunction(\n",
              "            'suggestCharts', [key], {});\n",
              "      } catch (error) {\n",
              "        console.error('Error during call to suggestCharts:', error);\n",
              "      }\n",
              "      quickchartButtonEl.classList.remove('colab-df-spinner');\n",
              "      quickchartButtonEl.classList.add('colab-df-quickchart-complete');\n",
              "    }\n",
              "    (() => {\n",
              "      let quickchartButtonEl =\n",
              "        document.querySelector('#df-1cfb6fd5-ec0d-4427-94fb-5d435ed61185 button');\n",
              "      quickchartButtonEl.style.display =\n",
              "        google.colab.kernel.accessAllowed ? 'block' : 'none';\n",
              "    })();\n",
              "  </script>\n",
              "</div>\n",
              "\n",
              "    </div>\n",
              "  </div>\n"
            ],
            "application/vnd.google.colaboratory.intrinsic+json": {
              "type": "dataframe",
              "summary": "{\n  \"name\": \"data\",\n  \"rows\": 8,\n  \"fields\": [\n    {\n      \"column\": \"montoneto\",\n      \"properties\": {\n        \"dtype\": \"number\",\n        \"std\": 896804.531729424,\n        \"min\": -215176.11,\n        \"max\": 2508053.0,\n        \"samples\": [\n          13039.061015952091,\n          9756.0,\n          18869.0\n        ],\n        \"num_unique_values\": 8,\n        \"semantic_type\": \"\",\n        \"description\": \"\"\n      }\n    },\n    {\n      \"column\": \"montobruto\",\n      \"properties\": {\n        \"dtype\": \"number\",\n        \"std\": 359067.203257413,\n        \"min\": -243402.14,\n        \"max\": 961292.76,\n        \"samples\": [\n          16375.786140759976,\n          12216.21,\n          18869.0\n        ],\n        \"num_unique_values\": 8,\n        \"semantic_type\": \"\",\n        \"description\": \"\"\n      }\n    }\n  ]\n}"
            }
          },
          "metadata": {},
          "execution_count": 10
        }
      ]
    },
    {
      "cell_type": "markdown",
      "source": [
        "Todas las columnas numéricas tienen desviaciones estándar (\"std\") diferentes de cero en tu conjunto de datos. Una desviación estándar de cero indicaría que todos los valores de la variable son iguales, lo cual no es el caso en nuestro analisis.\n",
        "\n",
        "Por lo tanto, al observar las desviaciones estándar proporcionadas en la salida del método describe(), puedes ver que todas son distintas de cero. Esto significa que hay variabilidad en los datos de cada una de las columnas numéricas: montoneto, montobruto."
      ],
      "metadata": {
        "id": "18bfWlTRAGav"
      }
    },
    {
      "cell_type": "markdown",
      "source": [
        "##4.3 Filas repetidas"
      ],
      "metadata": {
        "id": "u1f90NMpqSy_"
      }
    },
    {
      "cell_type": "code",
      "source": [
        "print(f'Tamaño del set antes de eliminar las filas repetidas: {data.shape}')\n",
        "data.drop_duplicates(inplace=True)\n",
        "print(f'Tamaño del set después de eliminar las filas repetidas: {data.shape}')"
      ],
      "metadata": {
        "colab": {
          "base_uri": "https://localhost:8080/"
        },
        "id": "z87gjoU_AmFU",
        "outputId": "11c0d085-68d0-45cc-f968-1e63a342813a"
      },
      "execution_count": null,
      "outputs": [
        {
          "output_type": "stream",
          "name": "stdout",
          "text": [
            "Tamaño del set antes de eliminar las filas repetidas: (18869, 10)\n",
            "Tamaño del set después de eliminar las filas repetidas: (18824, 10)\n"
          ]
        }
      ]
    },
    {
      "cell_type": "markdown",
      "source": [
        "Se eliminaron registros al ejecutar el comando drop_duplicate"
      ],
      "metadata": {
        "id": "EfhQdDkSTNb6"
      }
    },
    {
      "cell_type": "markdown",
      "source": [
        "##4.4 *Outliers* en las variables numéricas\n",
        "\n",
        "No siempre se deben eliminar los *outliers* porque dependiendo de la variable numérica analizada estos pueden contener información importante.\n",
        "\n",
        "Creemos gráficas tipo \"boxplot\" de las columnas numéricas:"
      ],
      "metadata": {
        "id": "vAdN5qxyzpRV"
      }
    },
    {
      "cell_type": "code",
      "source": [
        "# Generar gráficas individuales pues las variables numéricas\n",
        "# están en rangos diferentes\n",
        "cols_num = ['montoneto', 'montobruto']\n",
        "\n",
        "# Creamos una figura con 2 subgráficos, una fila y 2 columnas\n",
        "fig, ax = plt.subplots(nrows=2, ncols=1, figsize=(8, 12))\n",
        "fig.subplots_adjust(hspace=0.5)\n",
        "\n",
        "# Iteramos sobre las columnas numéricas y creamos un boxplot para cada una\n",
        "for i, col in enumerate(cols_num):\n",
        "    sns.boxplot(x=col, data=data, ax=ax[i])\n",
        "    ax[i].set_title(col)\n",
        "\n",
        "plt.show()"
      ],
      "metadata": {
        "colab": {
          "base_uri": "https://localhost:8080/",
          "height": 1000
        },
        "id": "gW83zm7QTxjK",
        "outputId": "90d9e12d-f3f0-4915-c1eb-c9ab39d3ba7c"
      },
      "execution_count": null,
      "outputs": [
        {
          "output_type": "display_data",
          "data": {
            "text/plain": [
              "<Figure size 800x1200 with 2 Axes>"
            ],
            "image/png": "[encoded data removed]"
          },
          "metadata": {}
        }
      ]
    },
    {
      "cell_type": "markdown",
      "source": [
        "**Observaciones:**\n",
        "- \"monto bruto\": hay un monto bruto con valores negativos"
      ],
      "metadata": {
        "id": "PXp7xuqB2qs6"
      }
    },
    {
      "cell_type": "code",
      "source": [
        "# Eliminar filas con \"monto bruto\" <= 0\n",
        "print(f'Tamaño del conjunto antes de eliminar registros de monto bruto: {data.shape}')\n",
        "data = data[data['montobruto'] > 0]\n",
        "print(f'Tamaño del conjunto después de eliminar registros de monto bruto: {data.shape}')\n"
      ],
      "metadata": {
        "colab": {
          "base_uri": "https://localhost:8080/"
        },
        "id": "ZHs9-UoGrro4",
        "outputId": "f79a412f-3936-4c13-f7a2-5d6d98f8a95e"
      },
      "execution_count": null,
      "outputs": [
        {
          "output_type": "stream",
          "name": "stdout",
          "text": [
            "Tamaño del conjunto antes de eliminar registros de monto bruto: (18824, 10)\n",
            "Tamaño del conjunto después de eliminar registros de monto bruto: (18471, 10)\n"
          ]
        }
      ]
    },
    {
      "cell_type": "code",
      "source": [
        "data.shape"
      ],
      "metadata": {
        "colab": {
          "base_uri": "https://localhost:8080/"
        },
        "id": "-V_XTpbIzYCk",
        "outputId": "42cf7bc0-948e-4351-9443-89f03ae36fa6"
      },
      "execution_count": null,
      "outputs": [
        {
          "output_type": "execute_result",
          "data": {
            "text/plain": [
              "(18471, 10)"
            ]
          },
          "metadata": {},
          "execution_count": 14
        }
      ]
    },
    {
      "cell_type": "code",
      "source": [
        "# Convertir fechas a formato adecuado\n",
        "data['periodoreportainicio'] = pd.to_datetime(data['periodoreportainicio'], format='%d/%m/%Y', errors='coerce')\n",
        "data['periodoreportafin'] = pd.to_datetime(data['periodoreportafin'], format='%d/%m/%Y', errors='coerce' )\n"
      ],
      "metadata": {
        "id": "Ki4Ld5tnf2JX"
      },
      "execution_count": null,
      "outputs": []
    },
    {
      "cell_type": "markdown",
      "source": [
        "## 4.5. Observaciones\n",
        "\n",
        "Hay algunos valores que están fuera del formato esperado o tienen años incorrectos,o estan fuera del rango esperado de 2018-2019 y poseen valores Nulos"
      ],
      "metadata": {
        "id": "GjKfECMAgK7F"
      }
    },
    {
      "cell_type": "code",
      "source": [
        "# Filtrar las fechas desde el 1 de enero de 2018 hasta el 31 de diciembre de 2020\n",
        "data = data[(data['periodoreportainicio'].dt.year >= 2018) & (data['periodoreportainicio'].dt.year == 2020)]\n",
        "\n",
        "# Imprimir los valores únicos de 'periodoreportainicio' y 'periodoreportafin' después del filtrado\n",
        "print(\"Fechas de inicio únicas después del filtrado:\")\n",
        "print(data['periodoreportainicio'].unique())\n",
        "\n",
        "print(\"\\nFechas de fin únicas después del filtrado:\")\n",
        "print(data['periodoreportafin'].unique())\n",
        "\n"
      ],
      "metadata": {
        "colab": {
          "base_uri": "https://localhost:8080/"
        },
        "id": "vIC9qa44OHSG",
        "outputId": "b03af0fa-688a-4d58-ea35-400949cc9c42"
      },
      "execution_count": null,
      "outputs": [
        {
          "output_type": "stream",
          "name": "stdout",
          "text": [
            "Fechas de inicio únicas después del filtrado:\n",
            "['2020-01-01T00:00:00.000000000' '2020-05-01T00:00:00.000000000'\n",
            " '2020-02-01T00:00:00.000000000' '2020-04-01T00:00:00.000000000'\n",
            " '2020-07-01T00:00:00.000000000' '2020-04-16T00:00:00.000000000'\n",
            " '2020-05-16T00:00:00.000000000' '2020-06-01T00:00:00.000000000'\n",
            " '2020-03-16T00:00:00.000000000' '2020-01-16T00:00:00.000000000'\n",
            " '2020-03-01T00:00:00.000000000' '2020-02-16T00:00:00.000000000'\n",
            " '2020-06-16T00:00:00.000000000' '2020-01-02T00:00:00.000000000'\n",
            " '2020-10-01T00:00:00.000000000']\n",
            "\n",
            "Fechas de fin únicas después del filtrado:\n",
            "['2020-03-31T00:00:00.000000000' '2020-05-15T00:00:00.000000000'\n",
            " '2020-06-30T00:00:00.000000000' '2020-05-31T00:00:00.000000000'\n",
            " '2020-02-29T00:00:00.000000000' '2020-01-31T00:00:00.000000000'\n",
            " '2020-07-15T00:00:00.000000000' '2020-04-30T00:00:00.000000000'\n",
            " '2020-03-30T00:00:00.000000000' '2020-02-15T00:00:00.000000000'\n",
            " '2020-01-30T00:00:00.000000000' '2020-04-15T00:00:00.000000000'\n",
            " '2020-02-28T00:00:00.000000000' '2020-01-15T00:00:00.000000000'\n",
            " '2020-03-15T00:00:00.000000000' '2000-06-30T00:00:00.000000000'\n",
            " '2020-06-15T00:00:00.000000000']\n"
          ]
        }
      ]
    },
    {
      "cell_type": "code",
      "source": [
        "data.shape"
      ],
      "metadata": {
        "colab": {
          "base_uri": "https://localhost:8080/"
        },
        "id": "Gk54Ck_2OwNV",
        "outputId": "2e41569b-8e40-4f8c-ad07-5cf53d3739aa"
      },
      "execution_count": null,
      "outputs": [
        {
          "output_type": "execute_result",
          "data": {
            "text/plain": [
              "(2338, 10)"
            ]
          },
          "metadata": {},
          "execution_count": 17
        }
      ]
    },
    {
      "cell_type": "markdown",
      "source": [
        "##4.6 Errores tipográficos en variables categóricas\n",
        "\n",
        "En una variable categórica pueden aparecer sub-niveles como Ciudad de México y México que para nosotros son equivalentes pero que para nuestro programa parecerían diferentes.\n",
        "\n",
        "Se deben unificar estos sub-niveles"
      ],
      "metadata": {
        "id": "WO2ZMO-PdPQ3"
      }
    },
    {
      "cell_type": "code",
      "source": [
        "# Graficar los subniveles de la variable categórica 'entidadfederativa'\n",
        "col = 'entidadfederativa'\n",
        "fig, ax = plt.subplots(figsize=(10, 6))\n",
        "sns.countplot(x=col, data=data, ax=ax)\n",
        "ax.set_title(f'Conteo de registros por {col}')\n",
        "ax.set_xlabel(col)\n",
        "plt.xticks(rotation=90)  # Rotar las etiquetas del eje x para mayor legibilidad\n",
        "plt.show()\n"
      ],
      "metadata": {
        "colab": {
          "base_uri": "https://localhost:8080/",
          "height": 709
        },
        "id": "Jfhs4Xn6dwJZ",
        "outputId": "326da397-2bb3-4843-f53c-e59d052b6036"
      },
      "execution_count": null,
      "outputs": [
        {
          "output_type": "display_data",
          "data": {
            "text/plain": [
              "<Figure size 1000x600 with 1 Axes>"
            ],
            "image/png": "[encoded data removed]"
          },
          "metadata": {}
        }
      ]
    },
    {
      "cell_type": "code",
      "source": [
        "# entidad federativa: unificar mexico y ciudad de mexico\n",
        "print(data['entidadfederativa'].unique())\n",
        "data.loc[data['entidadfederativa']=='México','entidadfederativa']='Ciudad de México'\n",
        "print(data['entidadfederativa'].unique())"
      ],
      "metadata": {
        "colab": {
          "base_uri": "https://localhost:8080/"
        },
        "id": "obMi8ro-yBAU",
        "outputId": "86132491-8172-4ee4-ee77-6c04d1dbe2e7"
      },
      "execution_count": null,
      "outputs": [
        {
          "output_type": "stream",
          "name": "stdout",
          "text": [
            "['Ciudad de México' 'Federación' 'Hidalgo' 'Baja California' 'Jalisco'\n",
            " 'Chiapas' 'Guerrero' 'Aguascalientes' 'Coahuila de Zaragoza' 'Zacatecas'\n",
            " 'Sonora' 'Chihuahua' 'Morelos' 'Baja California Sur' 'Guanajuato'\n",
            " 'Oaxaca' 'Campeche' 'Michoacán de Ocampo' 'Nuevo León' 'Colima' 'Puebla'\n",
            " 'Yucatán' 'Nayarit' 'Sinaloa' 'Quintana Roo' 'Tabasco' 'Durango' 'México']\n",
            "['Ciudad de México' 'Federación' 'Hidalgo' 'Baja California' 'Jalisco'\n",
            " 'Chiapas' 'Guerrero' 'Aguascalientes' 'Coahuila de Zaragoza' 'Zacatecas'\n",
            " 'Sonora' 'Chihuahua' 'Morelos' 'Baja California Sur' 'Guanajuato'\n",
            " 'Oaxaca' 'Campeche' 'Michoacán de Ocampo' 'Nuevo León' 'Colima' 'Puebla'\n",
            " 'Yucatán' 'Nayarit' 'Sinaloa' 'Quintana Roo' 'Tabasco' 'Durango']\n"
          ]
        }
      ]
    },
    {
      "cell_type": "code",
      "source": [
        "data.shape"
      ],
      "metadata": {
        "colab": {
          "base_uri": "https://localhost:8080/"
        },
        "id": "z9aF7Crhyvxj",
        "outputId": "9364b926-4d75-4e2e-b0e3-0fb873827d1b"
      },
      "execution_count": null,
      "outputs": [
        {
          "output_type": "execute_result",
          "data": {
            "text/plain": [
              "(2338, 10)"
            ]
          },
          "metadata": {},
          "execution_count": 20
        }
      ]
    },
    {
      "cell_type": "code",
      "source": [
        "ruta = \"salaries_clean2.csv\"\n",
        "data.to_csv(ruta)"
      ],
      "metadata": {
        "id": "Ul_sYEoV5crD"
      },
      "execution_count": null,
      "outputs": []
    }
  ]
}